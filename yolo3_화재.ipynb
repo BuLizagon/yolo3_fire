{
  "nbformat": 4,
  "nbformat_minor": 0,
  "metadata": {
    "colab": {
      "name": "yolo3 화재.ipynb",
      "provenance": [],
      "collapsed_sections": []
    },
    "kernelspec": {
      "name": "python3",
      "display_name": "Python 3"
    },
    "language_info": {
      "name": "python"
    },
    "accelerator": "GPU"
  },
  "cells": [
    {
      "cell_type": "code",
      "execution_count": null,
      "metadata": {
        "id": "8eLFRZjPe-Lh"
      },
      "outputs": [],
      "source": [
        "!git clone https://github.com/AlexeyAB/darknet "
      ]
    },
    {
      "cell_type": "code",
      "source": [
        "%cd darknet\n",
        "!sed -i 's/GPU=0/GPU=1/g' Makefile\n",
        "!sed -i 's/OPENCV=0/OPENCV=1/g' Makefile\n",
        "!cat Makefile\n",
        "!make"
      ],
      "metadata": {
        "id": "IRzyorpmf3hu"
      },
      "execution_count": null,
      "outputs": []
    },
    {
      "cell_type": "code",
      "source": [
        "import os.path\n",
        "import shutil\n",
        "from google.colab import drive\n",
        "\n",
        "if not os.path.exists('/content/drive'):\n",
        "  drive.mount('/content/drive',force_remount=True)\n",
        "  \n",
        "DOWNLOAD_LOCATION = '/content/darknet/data/'\n",
        "DRIVE_DATASET_FILE = '/content/drive/MyDrive/FBI_dataset.zip'\n",
        "\n",
        "shutil.copy(DRIVE_DATASET_FILE, DOWNLOAD_LOCATION)\n",
        "\n",
        "\n",
        "print('Successfully downloaded the dataset')"
      ],
      "metadata": {
        "id": "NOkWuxiA8oml"
      },
      "execution_count": null,
      "outputs": []
    },
    {
      "cell_type": "code",
      "source": [
        "!unzip /content/darknet/data/FBI_dataset.zip -d data/ "
      ],
      "metadata": {
        "id": "XIgVS_efgmqL"
      },
      "execution_count": null,
      "outputs": []
    },
    {
      "cell_type": "code",
      "source": [
        "!wget https://pjreddie.com/media/files/darknet53.conv.74  "
      ],
      "metadata": {
        "id": "AhvajocigppS"
      },
      "execution_count": null,
      "outputs": []
    },
    {
      "cell_type": "code",
      "source": [
        "%cd /content/darknet\n",
        "!sed -i 's/batch=1/batch=64/g' cfg/yolov3.cfg\n",
        "!sed -i 's/subdivisions=1/subdivisions=16/g' cfg/yolov3.cfg\n",
        "!sed -i 's/max_batches = 500200/max_batches = 6000/g' cfg/yolov3.cfg\n",
        "!sed -i 's/steps=400000,450000/steps=4800,5400/g' cfg/yolov3.cfg\n",
        "!sed -i 's/classes=80/classes=3/g' cfg/yolov3.cfg\n",
        "!sed -i 's/filters=255/filters=24/g' cfg/yolov3.cfg\n",
        "!sed -i 's/width=416/width=224/g' cfg/yolov3.cfg\n",
        "!sed -i 's/height=416/height=224/g' cfg/yolov3.cfg\n",
        "\n",
        "\n",
        "\n",
        "!cat cfg/yolov3.cfg"
      ],
      "metadata": {
        "id": "Zi1UmCYcgr-U"
      },
      "execution_count": null,
      "outputs": []
    },
    {
      "cell_type": "code",
      "source": [
        "import os\n",
        "import sys\n",
        "\n",
        "CURRENT_DIR = '/content/darknet/data/img'\n",
        "\n",
        "def progressBar(value, endvalue, bar_length=20):\n",
        "  percent = float(value) / endvalue\n",
        "  arrow = '-' * int(round(percent * bar_length)-1) + '>'\n",
        "  spaces = ' ' * (bar_length - len(arrow))\n",
        "\n",
        "  sys.stdout.write(\"\\rPercent: [{0}] {1}%\".format(arrow + spaces, int(round(percent * 100))))\n",
        "  sys.stdout.flush()\n",
        "\n",
        "def returnFileList(dirname, extract):\n",
        "  fileList = []\n",
        "  filenames = os.listdir(dirname)\n",
        "  for filename in filenames:\n",
        "    ext = os.path.splitext(filename)[-1]\n",
        "    if ext == extract: \n",
        "      fileList.append(filename)\n",
        "  return fileList\n",
        "\n",
        "fileNames = returnFileList(CURRENT_DIR, \".png\")\n",
        "\n",
        "from sklearn.model_selection import train_test_split\n",
        "train,test = train_test_split(fileNames, test_size=0.1, random_state=123)\n",
        "train,valid = train_test_split(train,test_size=0.1,random_state=123)\n",
        "\n",
        "\n",
        "with open(\"/content/darknet/data/train.txt\",\"w\") as fileList:\n",
        "  for i, names in enumerate(train):\n",
        "    fileList.write(CURRENT_DIR+\"/\"+names+\"\\n\")\n",
        "    progressBar(i, len(train), bar_length=100)\n",
        "\n",
        "with open(\"/content/darknet/data/valid.txt\",\"w\") as fileList:\n",
        "  for i, names in enumerate(valid):\n",
        "    fileList.write(CURRENT_DIR+\"/\"+names+\"\\n\")\n",
        "    progressBar(i, len(valid), bar_length=100)\n",
        "\n",
        "with open(\"/content/darknet/data/test.txt\",\"w\") as fileList:\n",
        "  for i, names in enumerate(test):\n",
        "    fileList.write(CURRENT_DIR+\"/\"+names+\"\\n\")\n",
        "    progressBar(i, len(test), bar_length=100)"
      ],
      "metadata": {
        "id": "DW6oHCPfg7pC"
      },
      "execution_count": null,
      "outputs": []
    },
    {
      "cell_type": "code",
      "source": [
        "!./darknet detector train data/obj.data cfg/yolov3.cfg darknet53.conv.74 -dont_show"
      ],
      "metadata": {
        "id": "klInw6dehA4T"
      },
      "execution_count": null,
      "outputs": []
    },
    {
      "cell_type": "code",
      "source": [
        "import os.path\n",
        "import shutil\n",
        "from google.colab import drive\n",
        "\n",
        "if not os.path.exists('/content/drive'):\n",
        "  drive.mount('/content/drive')\n",
        "  \n",
        "YOLO_BACKUP = '/content/darknet/backup/yolov3_last.weights' \n",
        "DRIVE_DIR = '/content/drive/MyDrive/weight' \n",
        "\n",
        "shutil.copy(YOLO_BACKUP, DRIVE_DIR)\n",
        "\n",
        "print('Saved training data to drive at: ' + DRIVE_DIR)"
      ],
      "metadata": {
        "id": "jt1sXVYfhCQR"
      },
      "execution_count": null,
      "outputs": []
    },
    {
      "cell_type": "code",
      "source": [
        "%cd /content/darknet"
      ],
      "metadata": {
        "id": "ZvqaFdJDhE9K"
      },
      "execution_count": null,
      "outputs": []
    },
    {
      "cell_type": "code",
      "source": [
        "!./darknet detector map  data/obj.data cfg/yolov3.cfg backup/yolov3_last.weights"
      ],
      "metadata": {
        "id": "8jqmVSAnhFdB"
      },
      "execution_count": null,
      "outputs": []
    },
    {
      "cell_type": "code",
      "source": [
        "!./darknet detector test data/obj.data cfg/yolov3.cfg backup/yolov3_last.weights data/fire2.jpg -dont_show"
      ],
      "metadata": {
        "id": "70sd_AemhH-y"
      },
      "execution_count": null,
      "outputs": []
    },
    {
      "cell_type": "code",
      "source": [
        "def display_image(file_path = '/content/darknet/predictions.jpg'):\n",
        "    import cv2\n",
        "    import matplotlib.pyplot as plt\n",
        "    import os.path\n",
        "\n",
        "    if os.path.exists(file_path):\n",
        "      img = cv2.imread(file_path)\n",
        "      show_img = cv2.cvtColor(img, cv2.COLOR_BGR2RGB) \n",
        "      plt.imshow(show_img)\n",
        "    else:\n",
        "      print('failed to open file')\n",
        "    \n",
        "display_image()"
      ],
      "metadata": {
        "id": "WU3wz6rThJv6"
      },
      "execution_count": null,
      "outputs": []
    },
    {
      "cell_type": "code",
      "source": [
        "def upload():\n",
        "  from google.colab import files\n",
        "  upload = files.upload()\n",
        "  for name, data in upload.items():\n",
        "    with open(name, 'wb') as f:\n",
        "      f.write(data)\n",
        "      print('saved file', name)"
      ],
      "metadata": {
        "id": "uJR56f_-PlKv"
      },
      "execution_count": null,
      "outputs": []
    },
    {
      "cell_type": "code",
      "source": [
        "upload()"
      ],
      "metadata": {
        "id": "9DGNRWoNPlDN"
      },
      "execution_count": null,
      "outputs": []
    },
    {
      "cell_type": "code",
      "source": [
        "!./darknet detector test data/obj.data cfg/yolov3.cfg backup/yolov3_last.weights -dont_show -out_filename yolo_video.mp4"
      ],
      "metadata": {
        "id": "GU-6nzPqQCZw"
      },
      "execution_count": null,
      "outputs": []
    },
    {
      "cell_type": "code",
      "source": [
        "import cv2\n",
        "import numpy as np\n",
        "import time # -- 프레임 계산을 위해 사용\n",
        "\n",
        "\n",
        "vedio_path = '/content/darknet/data/fire.mp4' #-- 사용할 영상 경로\n",
        "min_confidence = 0.5\n",
        "\n",
        "def detectAndDisplay(frame):\n",
        "    start_time = time.time()\n",
        "    img = cv2.resize(frame, None, fx=0.8, fy=0.8)\n",
        "    height, width, channels = img.shape\n",
        "    cv2.imshow(\"Original Image\", img)\n",
        "\n",
        "    #-- 창 크기 설정\n",
        "    blob = cv2.dnn.blobFromImage(img, 0.00392, (416, 416), (0, 0, 0), True, crop=False)\n",
        "\n",
        "    net.setInput(blob)\n",
        "    outs = net.forward(output_layers)\n",
        "\n",
        "    #-- 탐지한 객체의 클래스 예측 \n",
        "    class_ids = []\n",
        "    confidences = []\n",
        "    boxes = []\n",
        "\n",
        "    for out in outs:\n",
        "        for detection in out:\n",
        "            scores = detection[5:]\n",
        "            class_id = np.argmax(scores)\n",
        "            confidence = scores[class_id]\n",
        "            if confidence > min_confidence:\n",
        "                # 탐지한 객체 박싱\n",
        "                center_x = int(detection[0] * width)\n",
        "                center_y = int(detection[1] * height)\n",
        "                w = int(detection[2] * width)\n",
        "                h = int(detection[3] * height)\n",
        "               \n",
        "                x = int(center_x - w / 2)\n",
        "                y = int(center_y - h / 2)\n",
        "\n",
        "                boxes.append([x, y, w, h])\n",
        "                confidences.append(float(confidence))\n",
        "                class_ids.append(class_id)\n",
        "\n",
        "    indexes = cv2.dnn.NMSBoxes(boxes, confidences, min_confidence, 0.4)\n",
        "    font = cv2.FONT_HERSHEY_DUPLEX\n",
        "    for i in range(len(boxes)):\n",
        "        if i in indexes:\n",
        "            x, y, w, h = boxes[i]\n",
        "            label = \"{}: {:.2f}\".format(classes[class_ids[i]], confidences[i]*100)\n",
        "            print(i, label)\n",
        "            color = colors[i] #-- 경계 상자 컬러 설정 / 단일 생상 사용시 (255,255,255)사용(B,G,R)\n",
        "            cv2.rectangle(img, (x, y), (x + w, y + h), color, 2)\n",
        "            cv2.putText(img, label, (x, y - 5), font, 1, color, 1)\n",
        "    end_time = time.time()\n",
        "    process_time = end_time - start_time\n",
        "    # print(\"=== A frame took {:.3f} seconds\".format(process_time))\n",
        "    # cv2.imshow(\"YOLO test\", img)\n",
        "    \n",
        "#-- yolo 포맷 및 클래스명 불러오기\n",
        "model_file = '/ontent/darknet/backup/yolov3_last.weights' #-- 본인 개발 환경에 맞게 변경할 것\n",
        "config_file = '/content/darknet/cfg/yolov3.cfg' #-- 본인 개발 환경에 맞게 변경할 것\n",
        "net = cv2.dnn.readNet(model_file, config_file)\n",
        "\n",
        "\n",
        "#-- 클래스(names파일) 오픈 / 본인 개발 환경에 맞게 변경할 것\n",
        "classes = []\n",
        "with open(\"/content/darknet/data/obj.names\", \"r\") as f:\n",
        "    classes = [line.strip() for line in f.readlines()]\n",
        "layer_names = net.getLayerNames()\n",
        "output_layers = [layer_names[i[0] - 1] for i in net.getUnconnectedOutLayers()]\n",
        "colors = np.random.uniform(0, 255, size=(len(classes), 3))\n",
        "\n",
        "#-- 비디오 활성화\n",
        "cap = cv2.VideoCapture(vedio_path) #-- 웹캠 사용시 vedio_path를 0 으로 변경\n",
        "if not cap.isOpened:\n",
        "    print('--(!)Error opening video capture')\n",
        "    exit(0)\n",
        "while True:\n",
        "    ret, frame = cap.read()\n",
        "    if frame is None:\n",
        "        print('--(!) No captured frame -- Break!')\n",
        "        break\n",
        "    detectAndDisplay(frame)\n",
        "    #-- q 입력시 종료\n",
        "    if cv2.waitKey(1) & 0xFF == ord('q'):\n",
        "        break\n",
        "\n",
        "cv2.destroyAllWindows()"
      ],
      "metadata": {
        "id": "fets8TfaLGDe"
      },
      "execution_count": null,
      "outputs": []
    }
  ]
}